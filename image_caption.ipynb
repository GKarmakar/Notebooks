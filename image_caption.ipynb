{
 "cells": [
  {
   "cell_type": "code",
   "execution_count": null,
   "metadata": {
    "collapsed": true
   },
   "outputs": [],
   "source": [
    "import string\n",
    "\n",
    "#load doc into memory\n",
    "def load_doc(filename):\n",
    "    #open the file as read only\n",
    "    file = open(filename, 'r')\n",
    "    #read all text\n",
    "    text = file.read()\n",
    "    #close the file\n",
    "    file.close()\n",
    "    return text\n",
    "\n",
    "#extract descriptions for images\n",
    "def load_descriptions(doc):\n",
    "    mapping = dict()\n",
    "    #process lines\n",
    "    for line in doc.split('\\n'):\n",
    "        #split line by white space\n",
    "        tokens = line.split()\n",
    "        if len(line) < 2:\n",
    "            continue\n",
    "        #taken the first token as the image id, the rest as the description \n",
    "        image_id, image_desc = tokens[0], tokens[1:]\n",
    "        #remove filename from image id\n",
    "        image_id = image_id.split('.')[0]\n",
    "        #convert description tokens back to string\n",
    "        image_desc = ' '.join(image_desc)\n",
    "        #create the list if needed\n",
    "        if image_id mot in mapping:\n",
    "            mapping[image_id] = list()\n",
    "        #store description \n",
    "        mapping[image_id].append(image_desc)\n",
    "    return mapping\n",
    "\n",
    "def clean_descriptions(descriptions):\n",
    "    #prepare translation table for removing punctuation\n",
    "    table = str.maketrans('', '',string.punctuation)\n",
    "    for key, desc_list in descriptions.items():\n",
    "        for i in range(len(desc_list)):\n",
    "            desc = desc_list[i]\n",
    "            #tokenize\n",
    "            desc = desc.split()\n",
    "            #convert to lower case\n",
    "            desc = [word.lower() for word in desc]\n",
    "            #remove punctuation form each token\n",
    "            desc = [word for word in desc if word.isalpha()]\n",
    "            #store as string\n",
    "            desc_list[i] = ' 'join(desc)\n"
   ]
  }
 ],
 "metadata": {
  "kernelspec": {
   "display_name": "dl4nlp",
   "language": "python",
   "name": "dl4nlp"
  },
  "language_info": {
   "codemirror_mode": {
    "name": "ipython",
    "version": 3
   },
   "file_extension": ".py",
   "mimetype": "text/x-python",
   "name": "python",
   "nbconvert_exporter": "python",
   "pygments_lexer": "ipython3",
   "version": "3.5.4"
  }
 },
 "nbformat": 4,
 "nbformat_minor": 2
}
