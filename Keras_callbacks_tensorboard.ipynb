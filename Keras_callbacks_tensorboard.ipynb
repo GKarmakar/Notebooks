{
 "cells": [
  {
   "cell_type": "code",
   "execution_count": 1,
   "metadata": {},
   "outputs": [
    {
     "name": "stderr",
     "output_type": "stream",
     "text": [
      "/Users/trinakarmakar/anaconda3/lib/python3.6/importlib/_bootstrap.py:219: RuntimeWarning: compiletime version 3.5 of module 'tensorflow.python.framework.fast_tensor_util' does not match runtime version 3.6\n",
      "  return f(*args, **kwds)\n"
     ]
    }
   ],
   "source": [
    "import os\n",
    "import tensorflow as tf"
   ]
  },
  {
   "cell_type": "code",
   "execution_count": 3,
   "metadata": {},
   "outputs": [],
   "source": [
    "import keras \n",
    "from keras.models import Sequential\n",
    "from keras.layers import Dense, Activation, Dropout\n",
    "from keras.callbacks import Callback, TensorBoard, ModelCheckpoint"
   ]
  },
  {
   "cell_type": "code",
   "execution_count": null,
   "metadata": {
    "collapsed": true
   },
   "outputs": [],
   "source": [
    "from tensorflow.examples.tutorials.mnist import input_data\n",
    "mnist = input_data.read_data_sets(\"./data/\", one_hot=True)"
   ]
  },
  {
   "cell_type": "code",
   "execution_count": null,
   "metadata": {
    "collapsed": true
   },
   "outputs": [],
   "source": [
    "LOGDIR = './graphs/'\n",
    "\n",
    "#hyperparameters\n",
    "learning_rate = 0.01\n",
    "batch_size = 1000\n",
    "epochs = 10\n",
    "\n",
    "#layers \n",
    "hl_1 = 1000\n",
    "hl_2 = 500\n",
    "\n",
    "#other parameters\n",
    "input_size = 28*28\n",
    "n_classes = 10"
   ]
  },
  {
   "cell_type": "code",
   "execution_count": null,
   "metadata": {
    "collapsed": true
   },
   "outputs": [],
   "source": [
    "sess = tf.Session()\n",
    "\n",
    "with tf.name_scope('input'):\n",
    "    images = tf.placeholder(tf.float32, [None, input_size], name=\"images\")\n",
    "    labels = tf.placeholder(tf.float32, [None, n_classes], name='labels')\n",
    "\n",
    "def fc_layer(x, layer, size_out, activation=None):\n",
    "    with tf.name_scope(layer):\n",
    "        size_in = int(x.shape[1])\n",
    "        W = tf.Variable(tf.random_normal([size_in, size_out]), name='weight')\n",
    "        b = tf.Variable(tf.constant(-1, dtype=tf.float32, shape=[size_out]), name='bias')\n",
    "        z = tf.add(tf.matmul(x, W), b)\n",
    "        if activation:\n",
    "            return activation(z)\n",
    "        return z\n",
    "    \n",
    "fc_1 = fc_layer(images, \"fc_1\", hl_1, tf.nn.relu)\n",
    "fc_2 = fc_layer(fc_1, \"fc_2\", hl_2, tf.nn.relu)\n",
    "dropped = tf.nn.dropout(fc_2, keep_prob=0.9)\n",
    "y = fc_layer(dropped, \"output\", n_classes)"
   ]
  },
  {
   "cell_type": "code",
   "execution_count": null,
   "metadata": {
    "collapsed": true
   },
   "outputs": [],
   "source": [
    "with tf.name_scope('loss'):\n",
    "    loss = tf.reduce_mean(tf.nn.softmax_cross_entropy_with_logits(logits=y, labels=labels))\n",
    "    tf.summary.scalar('loss', loss)\n",
    "\n",
    "with tf.name_scope('optimizer'):\n",
    "    train = tf.train.AdamOptimizer(LEARNING_RATE).minimize(loss)\n",
    "\n",
    "with tf.name_scope('evaluation'):\n",
    "    correct = tf.equal( tf.argmax(y, 1), tf.argmax(labels, 1) )\n",
    "    accuracy = tf.reduce_mean( tf.cast(correct, dtype=tf.float32) )\n",
    "    tf.summary.scalar('accuracy', accuracy)"
   ]
  },
  {
   "cell_type": "code",
   "execution_count": null,
   "metadata": {
    "collapsed": true
   },
   "outputs": [],
   "source": [
    "#using keras\n",
    "model = Sequential()\n",
    "model.add(Dense(1000, input_dim=input_size, activation='relu'))\n",
    "model.add(Dense(500, activation='relu'))\n",
    "model.add(Dropout(rate=0.9))\n",
    "model.add(Dense(10, activation='softmax'))"
   ]
  },
  {
   "cell_type": "code",
   "execution_count": null,
   "metadata": {
    "collapsed": true
   },
   "outputs": [],
   "source": [
    "model.compile(loss='categorical_crossentropy', optimizer='adam', metrics=['accuracy'])"
   ]
  },
  {
   "cell_type": "code",
   "execution_count": null,
   "metadata": {
    "collapsed": true
   },
   "outputs": [],
   "source": [
    "class Callback(object):\n",
    "    \"\"\"Abstract base class used to build new callbacks.\n",
    "\n",
    "    # Properties\n",
    "        params: dict. Training parameters\n",
    "            (eg. verbosity, batch size, number of epochs...).\n",
    "        model: instance of `keras.models.Model`.\n",
    "            Reference of the model being trained.\n",
    "\n",
    "    The `logs` dictionary that callback methods\n",
    "    take as argument will contain keys for quantities relevant to\n",
    "    the current batch or epoch.\n",
    "\n",
    "    Currently, the `.fit()` method of the `Sequential` model class\n",
    "    will include the following quantities in the `logs` that\n",
    "    it passes to its callbacks:\n",
    "\n",
    "        on_epoch_end: logs include `acc` and `loss`, and\n",
    "            optionally include `val_loss`\n",
    "            (if validation is enabled in `fit`), and `val_acc`\n",
    "            (if validation and accuracy monitoring are enabled).\n",
    "        on_batch_begin: logs include `size`,\n",
    "            the number of samples in the current batch.\n",
    "        on_batch_end: logs include `loss`, and optionally `acc`\n",
    "            (if accuracy monitoring is enabled).\n",
    "    \"\"\"\n",
    "\n",
    "    def __init__(self):\n",
    "        self.validation_data = None\n",
    "\n",
    "    def set_params(self, params):\n",
    "        self.params = params\n",
    "\n",
    "    def set_model(self, model):\n",
    "        self.model = model\n",
    "\n",
    "    def on_epoch_begin(self, epoch, logs=None):\n",
    "        pass\n",
    "\n",
    "    def on_epoch_end(self, epoch, logs=None):\n",
    "        pass\n",
    "\n",
    "    def on_batch_begin(self, batch, logs=None):\n",
    "        pass\n",
    "\n",
    "    def on_batch_end(self, batch, logs=None):\n",
    "        pass\n",
    "\n",
    "    def on_train_begin(self, logs=None):\n",
    "        pass\n",
    "\n",
    "    def on_train_end(self, logs=None):\n",
    "        pass"
   ]
  },
  {
   "cell_type": "code",
   "execution_count": null,
   "metadata": {
    "collapsed": true
   },
   "outputs": [],
   "source": [
    "def on_epoch_end(self, epoch, logs=None):\n",
    "    logs = logs or {}\n",
    "\n",
    "    if not self.validation_data and self.histogram_freq:\n",
    "        raise ValueError('If printing histograms, validation_data must be '\n",
    "                         'provided, and cannot be a generator.')\n",
    "    if self.validation_data and self.histogram_freq:\n",
    "        if epoch % self.histogram_freq == 0:\n",
    "\n",
    "            val_data = self.validation_data\n",
    "            tensors = (self.model.inputs +\n",
    "                       self.model.targets +\n",
    "                       self.model.sample_weights)\n",
    "\n",
    "            if self.model.uses_learning_phase:\n",
    "                tensors += [K.learning_phase()]\n",
    "\n",
    "            assert len(val_data) == len(tensors)\n",
    "            val_size = val_data[0].shape[0]\n",
    "            i = 0\n",
    "            while i < val_size:\n",
    "                step = min(self.batch_size, val_size - i)\n",
    "                if self.model.uses_learning_phase:\n",
    "                    # do not slice the learning phase\n",
    "                    batch_val = [x[i:i + step] for x in val_data[:-1]]\n",
    "                    batch_val.append(val_data[-1])\n",
    "                else:\n",
    "                    batch_val = [x[i:i + step] for x in val_data]\n",
    "                assert len(batch_val) == len(tensors)\n",
    "                feed_dict = dict(zip(tensors, batch_val))\n",
    "                result = self.sess.run([self.merged], feed_dict=feed_dict)\n",
    "                summary_str = result[0]\n",
    "                self.writer.add_summary(summary_str, epoch)\n",
    "                i += self.batch_size\n",
    "\n",
    "    if self.embeddings_freq and self.embeddings_ckpt_path:\n",
    "        if epoch % self.embeddings_freq == 0:\n",
    "            self.saver.save(self.sess,\n",
    "                            self.embeddings_ckpt_path,\n",
    "                            epoch)\n",
    "\n",
    "    for name, value in logs.items():\n",
    "        if name in ['batch', 'size']:\n",
    "            continue\n",
    "        summary = tf.Summary()\n",
    "        summary_value = summary.value.add()\n",
    "        summary_value.simple_value = value.item()\n",
    "        summary_value.tag = name\n",
    "        self.writer.add_summary(summary, epoch)\n",
    "    self.writer.flush()"
   ]
  },
  {
   "cell_type": "code",
   "execution_count": null,
   "metadata": {
    "collapsed": true
   },
   "outputs": [],
   "source": [
    "for name, value in logs.items():\n",
    "    if name in ['batch', 'size']:\n",
    "        continue\n",
    "    summary = tf.Summary()\n",
    "    summary_value = summary.value.add()\n",
    "    summary_value.simple_value = value.item()\n",
    "    summary_value.tag = name\n",
    "    self.writer.add_summary(summary, epoch)\n",
    "self.writer.flush()"
   ]
  },
  {
   "cell_type": "code",
   "execution_count": null,
   "metadata": {
    "collapsed": true
   },
   "outputs": [],
   "source": [
    "cb = TensorBoard()\n",
    "history_callback = model.fit(\n",
    "    x=mnist.train.images, \n",
    "    y=mnist.train.labels, \n",
    "    epochs=EPOCHS, \n",
    "    batch_size=BATCH_SIZE,\n",
    "    callbacks=[cb])"
   ]
  },
  {
   "cell_type": "code",
   "execution_count": null,
   "metadata": {
    "collapsed": true
   },
   "outputs": [],
   "source": [
    "history_callback.__dict__"
   ]
  },
  {
   "cell_type": "code",
   "execution_count": null,
   "metadata": {
    "collapsed": true
   },
   "outputs": [],
   "source": [
    "score = model.evaluate(\n",
    "    x=mnist.test.images,\n",
    "    y=mnist.test.labels)\n",
    "\n",
    "print(\"score = \", score)"
   ]
  },
  {
   "cell_type": "code",
   "execution_count": null,
   "metadata": {
    "collapsed": true
   },
   "outputs": [],
   "source": [
    "#Batch-wise plots\n",
    "class Batched_TensorBoard(TensorBoard):\n",
    "\n",
    "    def __init__(self):\n",
    "        self.log_dir = \"./log_dir\"\n",
    "        self.batch_writer = tf.summary.FileWriter(self.log_dir) # Created here as site-packages/keras/callback.py\n",
    "        self.step = 0 # Initialization\n",
    "        super().__init__(self.log_dir) # Execute TensorBoard's constructor, passing the log directory\n",
    "\n",
    "\n",
    "    def on_batch_end(self, batch, logs={}):\n",
    "        \"\"\"Called after every batch\"\"\"\n",
    "\n",
    "        for name, value in logs.items():\n",
    "            if name in ['acc', 'loss']:\n",
    "                summary = tf.Summary()\n",
    "                summary_value = summary.value.add() #Empty\n",
    "                summary_value.simple_value = value.item() # 0.87 (Accuracy Value)\n",
    "                summary_value.tag = name #if \"acc\", tag = \"accuracy\" for more defined tags on the tensorboard\n",
    "                self.batch_writer.add_summary(summary, self.step) \n",
    "    \n",
    "        self.batch_writer.flush()\n",
    "        self.step += 1 # Iterated over every batch"
   ]
  },
  {
   "cell_type": "code",
   "execution_count": null,
   "metadata": {
    "collapsed": true
   },
   "outputs": [],
   "source": [
    "cb = Batched_TensorBoard()\n",
    "\n",
    "history_callback = model.fit(\n",
    "    x=mnist.train.images, \n",
    "    y=mnist.train.labels, \n",
    "    epochs=EPOCHS, \n",
    "    batch_size=BATCH_SIZE,\n",
    "    callbacks=[cb])"
   ]
  },
  {
   "cell_type": "code",
   "execution_count": null,
   "metadata": {
    "collapsed": true
   },
   "outputs": [],
   "source": [
    "history_callback.__dict__"
   ]
  }
 ],
 "metadata": {
  "kernelspec": {
   "display_name": "Python 3",
   "language": "python",
   "name": "python3"
  },
  "language_info": {
   "codemirror_mode": {
    "name": "ipython",
    "version": 3
   },
   "file_extension": ".py",
   "mimetype": "text/x-python",
   "name": "python",
   "nbconvert_exporter": "python",
   "pygments_lexer": "ipython3",
   "version": "3.6.3"
  }
 },
 "nbformat": 4,
 "nbformat_minor": 2
}
