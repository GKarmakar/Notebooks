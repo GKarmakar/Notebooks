{
 "cells": [
  {
   "cell_type": "code",
   "execution_count": 1,
   "metadata": {},
   "outputs": [
    {
     "name": "stdout",
     "output_type": "stream",
     "text": [
      "Hello, Colaboratory from Python 3!\n"
     ]
    }
   ],
   "source": [
    "import sys\n",
    "print('Hello, Colaboratory from Python {}!'.format(sys.version_info[0]))"
   ]
  },
  {
   "cell_type": "code",
   "execution_count": 3,
   "metadata": {},
   "outputs": [
    {
     "data": {
      "text/plain": [
       "array([[ 2.,  3.,  4.],\n",
       "       [ 5.,  6.,  7.]], dtype=float32)"
      ]
     },
     "execution_count": 3,
     "metadata": {},
     "output_type": "execute_result"
    }
   ],
   "source": [
    "import tensorflow as tf\n",
    "import numpy as np\n",
    "\n",
    "with tf.Session():\n",
    "    input1 = tf.constant(1.0, shape=[2,3])\n",
    "    input2 = tf.constant(np.reshape(np.arange(1.0, 7.0, dtype=np.float32), (2,3)))\n",
    "    output = tf.add(input1, input2)\n",
    "    result = output.eval()\n",
    "result"
   ]
  },
  {
   "cell_type": "code",
   "execution_count": 7,
   "metadata": {},
   "outputs": [
    {
     "data": {
      "image/png": "[encoded data removed]",
      "text/plain": [
       "<matplotlib.figure.Figure at 0x1825b9c6d8>"
      ]
     },
     "metadata": {},
     "output_type": "display_data"
    }
   ],
   "source": [
    "import matplotlib.pyplot as plt\n",
    "x = np.arange(20)\n",
    "y = [x_i + np.random.randn(1) for x_i in x]\n",
    "a , b = np.polyfit(x, y, 1)\n",
    "_ = plt.plot(x, y, 'o', np.arange(20), a*np.arange(20) + b, \"-\")\n",
    "plt.show()"
   ]
  },
  {
   "cell_type": "code",
   "execution_count": 8,
   "metadata": {},
   "outputs": [
    {
     "name": "stdout",
     "output_type": "stream",
     "text": [
      "Collecting matplotlib-venn\n",
      "  Downloading matplotlib-venn-0.11.5.zip (40kB)\n",
      "\u001b[K    100% |████████████████████████████████| 40kB 1.3MB/s ta 0:00:01\n",
      "\u001b[?25hRequirement already satisfied: matplotlib in ./lib/python3.6/site-packages (from matplotlib-venn)\n",
      "Requirement already satisfied: numpy in ./lib/python3.6/site-packages (from matplotlib-venn)\n",
      "Requirement already satisfied: scipy in ./lib/python3.6/site-packages (from matplotlib-venn)\n",
      "Requirement already satisfied: six>=1.10 in ./lib/python3.6/site-packages (from matplotlib->matplotlib-venn)\n",
      "Requirement already satisfied: python-dateutil in ./lib/python3.6/site-packages (from matplotlib->matplotlib-venn)\n",
      "Requirement already satisfied: pytz in ./lib/python3.6/site-packages (from matplotlib->matplotlib-venn)\n",
      "Requirement already satisfied: cycler>=0.10 in ./lib/python3.6/site-packages (from matplotlib->matplotlib-venn)\n",
      "Requirement already satisfied: pyparsing!=2.0.4,!=2.1.2,!=2.1.6,>=1.5.6 in ./lib/python3.6/site-packages (from matplotlib->matplotlib-venn)\n",
      "Building wheels for collected packages: matplotlib-venn\n",
      "  Running setup.py bdist_wheel for matplotlib-venn ... \u001b[?25ldone\n",
      "\u001b[?25h  Stored in directory: /Users/trinakarmakar/Library/Caches/pip/wheels/de/15/3c/e0b896dc28942a0b44a954e78aefdba25748e65fde93f61ccb\n",
      "Successfully built matplotlib-venn\n",
      "Installing collected packages: matplotlib-venn\n",
      "Successfully installed matplotlib-venn-0.11.5\n"
     ]
    }
   ],
   "source": [
    "!pip install matplotlib-venn"
   ]
  },
  {
   "cell_type": "code",
   "execution_count": 11,
   "metadata": {},
   "outputs": [
    {
     "data": {
      "image/png": "[encoded data removed]",
      "text/plain": [
       "<matplotlib.figure.Figure at 0x1825be9588>"
      ]
     },
     "metadata": {},
     "output_type": "display_data"
    }
   ],
   "source": [
    "from matplotlib_venn import venn2\n",
    "_ = venn2(subsets = (3,2,1))\n",
    "plt.show()"
   ]
  },
  {
   "cell_type": "code",
   "execution_count": null,
   "metadata": {
    "collapsed": true
   },
   "outputs": [],
   "source": []
  }
 ],
 "metadata": {
  "kernelspec": {
   "display_name": "Python 3",
   "language": "python",
   "name": "python3"
  },
  "language_info": {
   "codemirror_mode": {
    "name": "ipython",
    "version": 3
   },
   "file_extension": ".py",
   "mimetype": "text/x-python",
   "name": "python",
   "nbconvert_exporter": "python",
   "pygments_lexer": "ipython3",
   "version": "3.6.3"
  }
 },
 "nbformat": 4,
 "nbformat_minor": 2
}
