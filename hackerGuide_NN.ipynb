{
 "cells": [
  {
   "cell_type": "code",
   "execution_count": 4,
   "metadata": {
    "collapsed": true
   },
   "outputs": [],
   "source": [
    "def mulGate(x, y):\n",
    "    return x * y"
   ]
  },
  {
   "cell_type": "code",
   "execution_count": 3,
   "metadata": {
    "collapsed": false
   },
   "outputs": [
    {
     "data": {
      "text/plain": [
       "-6"
      ]
     },
     "execution_count": 3,
     "metadata": {},
     "output_type": "execute_result"
    }
   ],
   "source": [
    "mulGate(-2,3)"
   ]
  },
  {
   "cell_type": "code",
   "execution_count": 10,
   "metadata": {
    "collapsed": false
   },
   "outputs": [
    {
     "name": "stdout",
     "output_type": "stream",
     "text": [
      "-1.983\n",
      "3.001\n",
      "-5.950983\n"
     ]
    }
   ],
   "source": [
    "import random\n",
    "tweek_amount = 0.001\n",
    "x = -2\n",
    "y = 3\n",
    "\n",
    "best_x = x\n",
    "best_y = y\n",
    "best_out = -10000000.00\n",
    "for k in range(100):\n",
    "    x_try = x + tweek_amount * (random.randint(1,9) * 2 - 1) \n",
    "    y_try = y + tweek_amount * (random.randint(1,9) * 2 - 1)\n",
    "    \n",
    "    out = mulGate(x_try, y_try)\n",
    "    \n",
    "    if out > best_out:\n",
    "        best_out = out\n",
    "        best_x = x_try\n",
    "        best_y = y_try\n",
    "\n",
    "print(best_x)\n",
    "print(best_y)\n",
    "print(best_out)"
   ]
  },
  {
   "cell_type": "code",
   "execution_count": 11,
   "metadata": {
    "collapsed": true
   },
   "outputs": [],
   "source": [
    "x = -2\n",
    "y = 3\n",
    "out = mulGate(x, y)\n",
    "\n",
    "h = 0.0001\n",
    "\n",
    "#derivative of outuput wrt x\n",
    "\n",
    "xph = x + h\n",
    "out2 = mulGate(xph, y)\n",
    "x_derivative = (out2 - out) / h\n",
    "\n",
    "#derivative of outuput wrt y\n",
    "\n",
    "yph = y + h\n",
    "out3 = mulGate(x, yph)\n",
    "y_derivative = (out3 - out) / h"
   ]
  },
  {
   "cell_type": "code",
   "execution_count": 13,
   "metadata": {
    "collapsed": false
   },
   "outputs": [
    {
     "name": "stdout",
     "output_type": "stream",
     "text": [
      "3.0\n"
     ]
    }
   ],
   "source": [
    "print(x_derivative) #note that this is same as y because derivative of xy wrt x is y."
   ]
  },
  {
   "cell_type": "code",
   "execution_count": 12,
   "metadata": {
    "collapsed": false
   },
   "outputs": [
    {
     "name": "stdout",
     "output_type": "stream",
     "text": [
      "-5.987006\n"
     ]
    }
   ],
   "source": [
    "step_size = 0.001\n",
    "\n",
    "out = mulGate(x , y)\n",
    "\n",
    "x = x + step_size * x_derivative\n",
    "y = y + step_size * y_derivative\n",
    "\n",
    "out_new = mulGate(x, y)\n",
    "print(out_new)"
   ]
  },
  {
   "cell_type": "code",
   "execution_count": 15,
   "metadata": {
    "collapsed": false
   },
   "outputs": [
    {
     "name": "stdout",
     "output_type": "stream",
     "text": [
      "-5.987006\n"
     ]
    }
   ],
   "source": [
    "x = -2\n",
    "y = 3\n",
    "\n",
    "out = mulGate(x, y)\n",
    "x_gradient = y\n",
    "y_gradient = x\n",
    "\n",
    "step_size = 0.001\n",
    "x += step_size * x_gradient\n",
    "y += step_size * y_gradient\n",
    "out_new = mulGate(x, y)\n",
    "print(out_new)"
   ]
  },
  {
   "cell_type": "code",
   "execution_count": 1,
   "metadata": {
    "collapsed": true
   },
   "outputs": [],
   "source": [
    "def addGate(a, b):\n",
    "    return a + b"
   ]
  },
  {
   "cell_type": "code",
   "execution_count": 2,
   "metadata": {
    "collapsed": true
   },
   "outputs": [],
   "source": [
    "def forwardCircuit(x, y, z):\n",
    "    q = addGate(x, y)\n",
    "    f = mulGate(q, z)\n",
    "    return f"
   ]
  },
  {
   "cell_type": "code",
   "execution_count": 8,
   "metadata": {
    "collapsed": false
   },
   "outputs": [
    {
     "name": "stdout",
     "output_type": "stream",
     "text": [
      "-12\n"
     ]
    }
   ],
   "source": [
    "x = -2\n",
    "y = 5\n",
    "z = -4\n",
    "q = addGate(x, y)\n",
    "f = forwardCircuit(x, y, z)\n",
    "print(f)"
   ]
  },
  {
   "cell_type": "code",
   "execution_count": 9,
   "metadata": {
    "collapsed": false
   },
   "outputs": [],
   "source": [
    "derivative_q_wrt_x = 1.0\n",
    "derivative_q_wrt_y = 1.0\n",
    "derivative_f_wrt_z = q\n",
    "derivative_f_wrt_q = z\n",
    "\n",
    "#chain rule\n",
    "derivative_f_wrt_x = derivative_q_wrt_x * derivative_f_wrt_q # -4\n",
    "derivative_f_wrt_y = derivative_q_wrt_y * derivative_f_wrt_q # -4"
   ]
  },
  {
   "cell_type": "code",
   "execution_count": 10,
   "metadata": {
    "collapsed": false
   },
   "outputs": [
    {
     "name": "stdout",
     "output_type": "stream",
     "text": [
      "-4.0\n",
      "-4.0\n"
     ]
    }
   ],
   "source": [
    "print(derivative_f_wrt_x)\n",
    "print(derivative_f_wrt_y)"
   ]
  },
  {
   "cell_type": "code",
   "execution_count": 11,
   "metadata": {
    "collapsed": false
   },
   "outputs": [
    {
     "name": "stdout",
     "output_type": "stream",
     "text": [
      "-11.959024\n"
     ]
    }
   ],
   "source": [
    "#final gradient\n",
    "\n",
    "gradient_f_wrt_xyz = [derivative_f_wrt_x, derivative_f_wrt_y, derivative_f_wrt_z]\n",
    "\n",
    "step_size = 0.001\n",
    "x = x + step_size * derivative_f_wrt_x\n",
    "y = y + step_size * derivative_f_wrt_y\n",
    "z = z + step_size * derivative_f_wrt_z\n",
    "\n",
    "q = addGate(x, y)\n",
    "f = mulGate(q, z)\n",
    "\n",
    "print(f)"
   ]
  },
  {
   "cell_type": "code",
   "execution_count": null,
   "metadata": {
    "collapsed": true
   },
   "outputs": [],
   "source": []
  }
 ],
 "metadata": {
  "kernelspec": {
   "display_name": "Python [conda root]",
   "language": "python",
   "name": "conda-root-py"
  },
  "language_info": {
   "codemirror_mode": {
    "name": "ipython",
    "version": 2
   },
   "file_extension": ".py",
   "mimetype": "text/x-python",
   "name": "python",
   "nbconvert_exporter": "python",
   "pygments_lexer": "ipython2",
   "version": "2.7.12"
  }
 },
 "nbformat": 4,
 "nbformat_minor": 2
}
