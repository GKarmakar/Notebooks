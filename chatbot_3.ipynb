{
 "cells": [
  {
   "cell_type": "code",
   "execution_count": 1,
   "metadata": {},
   "outputs": [
    {
     "ename": "EOFError",
     "evalue": "Ran out of input",
     "output_type": "error",
     "traceback": [
      "\u001b[0;31m---------------------------------------------------------------------------\u001b[0m",
      "\u001b[0;31mEOFError\u001b[0m                                  Traceback (most recent call last)",
      "\u001b[0;32m<ipython-input-1-359627aadd06>\u001b[0m in \u001b[0;36m<module>\u001b[0;34m()\u001b[0m\n\u001b[1;32m     18\u001b[0m \u001b[0;34m\u001b[0m\u001b[0m\n\u001b[1;32m     19\u001b[0m \u001b[0;31m# Importing the dataset\u001b[0m\u001b[0;34m\u001b[0m\u001b[0;34m\u001b[0m\u001b[0m\n\u001b[0;32m---> 20\u001b[0;31m \u001b[0mmetadata\u001b[0m\u001b[0;34m,\u001b[0m \u001b[0midx_q\u001b[0m\u001b[0;34m,\u001b[0m \u001b[0midx_a\u001b[0m \u001b[0;34m=\u001b[0m \u001b[0mdata_preprocessing\u001b[0m\u001b[0;34m.\u001b[0m\u001b[0mload_data\u001b[0m\u001b[0;34m(\u001b[0m\u001b[0mPATH\u001b[0m \u001b[0;34m=\u001b[0m \u001b[0;34m'./'\u001b[0m\u001b[0;34m)\u001b[0m\u001b[0;34m\u001b[0m\u001b[0m\n\u001b[0m\u001b[1;32m     21\u001b[0m \u001b[0;34m\u001b[0m\u001b[0m\n\u001b[1;32m     22\u001b[0m \u001b[0;31m# Splitting the dataset into the Training set and the Test set\u001b[0m\u001b[0;34m\u001b[0m\u001b[0;34m\u001b[0m\u001b[0m\n",
      "\u001b[0;32m~/anaconda3/data_preprocessing.py\u001b[0m in \u001b[0;36mload_data\u001b[0;34m(PATH)\u001b[0m\n\u001b[1;32m    204\u001b[0m     \u001b[0;31m# read data control dictionaries\u001b[0m\u001b[0;34m\u001b[0m\u001b[0;34m\u001b[0m\u001b[0m\n\u001b[1;32m    205\u001b[0m     \u001b[0;32mwith\u001b[0m \u001b[0mopen\u001b[0m\u001b[0;34m(\u001b[0m\u001b[0mPATH\u001b[0m \u001b[0;34m+\u001b[0m \u001b[0;34m'metadata.pkl'\u001b[0m\u001b[0;34m,\u001b[0m \u001b[0;34m'rb'\u001b[0m\u001b[0;34m)\u001b[0m \u001b[0;32mas\u001b[0m \u001b[0mf\u001b[0m\u001b[0;34m:\u001b[0m\u001b[0;34m\u001b[0m\u001b[0m\n\u001b[0;32m--> 206\u001b[0;31m         \u001b[0mmetadata\u001b[0m \u001b[0;34m=\u001b[0m \u001b[0mpickle\u001b[0m\u001b[0;34m.\u001b[0m\u001b[0mload\u001b[0m\u001b[0;34m(\u001b[0m\u001b[0mf\u001b[0m\u001b[0;34m)\u001b[0m\u001b[0;34m\u001b[0m\u001b[0m\n\u001b[0m\u001b[1;32m    207\u001b[0m     \u001b[0;31m# read numpy arrays\u001b[0m\u001b[0;34m\u001b[0m\u001b[0;34m\u001b[0m\u001b[0m\n\u001b[1;32m    208\u001b[0m     \u001b[0midx_q\u001b[0m \u001b[0;34m=\u001b[0m \u001b[0mnp\u001b[0m\u001b[0;34m.\u001b[0m\u001b[0mload\u001b[0m\u001b[0;34m(\u001b[0m\u001b[0mPATH\u001b[0m \u001b[0;34m+\u001b[0m \u001b[0;34m'idx_q.npy'\u001b[0m\u001b[0;34m)\u001b[0m\u001b[0;34m\u001b[0m\u001b[0m\n",
      "\u001b[0;31mEOFError\u001b[0m: Ran out of input"
     ]
    }
   ],
   "source": [
    "# Building The Best ChatBot with Deep NLP\n",
    "\n",
    "\n",
    "\n",
    "# Importing the libraries\n",
    "import seq2seq_wrapper\n",
    "import importlib\n",
    "importlib.reload(seq2seq_wrapper)\n",
    "import data_preprocessing\n",
    "import data_utils_1\n",
    "import data_utils_2\n",
    "\n",
    "\n",
    "\n",
    "########## PART 1 - DATA PREPROCESSING ##########\n",
    "\n",
    "\n",
    "\n",
    "# Importing the dataset\n",
    "metadata, idx_q, idx_a = data_preprocessing.load_data(PATH = './')\n",
    "\n",
    "# Splitting the dataset into the Training set and the Test set\n",
    "(trainX, trainY), (testX, testY), (validX, validY) = data_utils_1.split_dataset(idx_q, idx_a)\n",
    "\n",
    "# Embedding\n",
    "xseq_len = trainX.shape[-1]\n",
    "yseq_len = trainY.shape[-1]\n",
    "batch_size = 16\n",
    "vocab_twit = metadata['idx2w']\n",
    "xvocab_size = len(metadata['idx2w'])  \n",
    "yvocab_size = xvocab_size\n",
    "emb_dim = 1024\n",
    "idx2w, w2idx, limit = data_utils_2.get_metadata()\n",
    "\n",
    "\n",
    "\n",
    "########## PART 2 - BUILDING THE SEQ2SEQ MODEL ##########\n",
    "\n",
    "\n",
    "\n",
    "# Building the seq2seq model\n",
    "model = seq2seq_wrapper.Seq2Seq(xseq_len = xseq_len,\n",
    "                                yseq_len = yseq_len,\n",
    "                                xvocab_size = xvocab_size,\n",
    "                                yvocab_size = yvocab_size,\n",
    "                                ckpt_path = './weights',\n",
    "                                emb_dim = emb_dim,\n",
    "                                num_layers = 3)\n",
    "\n",
    "\n",
    "\n",
    "########## PART 3 - TRAINING THE SEQ2SEQ MODEL ##########\n",
    "\n",
    "\n",
    "\n",
    "# See the Training in seq2seq_wrapper.py\n",
    "\n",
    "\n",
    "\n",
    "########## PART 4 - TESTING THE SEQ2SEQ MODEL ##########\n",
    "\n",
    "\n",
    "\n",
    "# Loading the weights and Running the session\n",
    "session = model.restore_last_session()\n",
    "\n",
    "# Getting the ChatBot predicted answer\n",
    "def respond(question):\n",
    "    encoded_question = data_utils_2.encode(question, w2idx, limit['maxq'])\n",
    "    answer = model.predict(session, encoded_question)[0]\n",
    "    return data_utils_2.decode(answer, idx2w) \n",
    "\n",
    "# Setting up the chat\n",
    "while True :\n",
    "  question = input(\"You: \")\n",
    "  answer = respond(question)\n",
    "  print (\"ChatBot: \"+answer)"
   ]
  },
  {
   "cell_type": "code",
   "execution_count": null,
   "metadata": {
    "collapsed": true
   },
   "outputs": [],
   "source": []
  }
 ],
 "metadata": {
  "kernelspec": {
   "display_name": "Python 3",
   "language": "python",
   "name": "python3"
  },
  "language_info": {
   "codemirror_mode": {
    "name": "ipython",
    "version": 3
   },
   "file_extension": ".py",
   "mimetype": "text/x-python",
   "name": "python",
   "nbconvert_exporter": "python",
   "pygments_lexer": "ipython3",
   "version": "3.6.3"
  }
 },
 "nbformat": 4,
 "nbformat_minor": 2
}
